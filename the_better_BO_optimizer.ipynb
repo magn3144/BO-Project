{
 "cells": [
  {
   "cell_type": "code",
   "execution_count": null,
   "metadata": {},
   "outputs": [],
   "source": [
    "import numpy as np\n",
    "import tensorflow as tf\n",
    "import matplotlib.pyplot as plt\n",
    "import GPyOpt\n",
    "\n",
    "print(np.__version__)\n",
    "print(tf.__version__)\n",
    "print(GPyOpt.__version__)"
   ]
  },
  {
   "cell_type": "code",
   "execution_count": null,
   "metadata": {},
   "outputs": [],
   "source": [
    "# Load data\n",
    "fashion_mnist = tf.keras.datasets.fashion_mnist\n",
    "(train_images, train_labels), (test_images, test_labels) = fashion_mnist.load_data()\n",
    "\n",
    "class_names = ['T-shirt/top', 'Trouser', 'Pullover', 'Dress', 'Coat', 'Sandal', 'Shirt', 'Sneaker', 'Bag', 'Ankle boot']"
   ]
  },
  {
   "cell_type": "code",
   "execution_count": null,
   "metadata": {},
   "outputs": [],
   "source": [
    "# Data overview\n",
    "print(train_images.shape)\n",
    "print(len(train_labels))\n",
    "print(train_labels)\n",
    "print(test_images.shape)\n",
    "print(len(test_labels))"
   ]
  },
  {
   "cell_type": "code",
   "execution_count": null,
   "metadata": {},
   "outputs": [],
   "source": [
    "# Scale pixel values to [0,1]\n",
    "train_images = train_images / 255.0\n",
    "test_images = test_images / 255.0"
   ]
  },
  {
   "cell_type": "code",
   "execution_count": null,
   "metadata": {},
   "outputs": [],
   "source": [
    "# Generate network structure\n",
    "def generate_network_structure(n_layers, dropout_rate, n_filters, kernel_size, strides, activation):\n",
    "    layers = []\n",
    "    for i in range(n_layers):\n",
    "        if i != 0 and i % 3 == 0:\n",
    "            layers.append(tf.keras.layers.Dropout(dropout_rate))\n",
    "        else:\n",
    "            if i == 0:\n",
    "                layers.append(tf.keras.layers.Conv2D(filters = n_filters,\n",
    "                                                    activation = activation,\n",
    "                                                    kernel_size = (kernel_size, kernel_size),\n",
    "                                                    strides = (strides, strides),\n",
    "                                                    padding = 'same',\n",
    "                                                    input_shape = (28, 28, 1)))\n",
    "            else:\n",
    "                layers.append(tf.keras.layers.Conv2D(filters = n_filters,\n",
    "                                                     activation = activation,\n",
    "                                                     kernel_size = (kernel_size, kernel_size),\n",
    "                                                     strides = (strides, strides),\n",
    "                                                     padding = 'same'))\n",
    "            layers.append(tf.keras.layers.BatchNormalization())\n",
    "    \n",
    "    layers.append(tf.keras.layers.Flatten())\n",
    "    layers.append(tf.keras.layers.Dropout(dropout_rate))\n",
    "    layers.append(tf.keras.layers.Dense(10, activation = 'softmax'))\n",
    "\n",
    "    model = tf.keras.Sequential(layers)\n",
    "    opt = tf.keras.optimizers.Adam(learning_rate = 1e-3)\n",
    "    model.compile(optimizer = opt, loss = tf.keras.losses.SparseCategoricalCrossentropy(from_logits = True), metrics = ['accuracy'])\n",
    "\n",
    "    return model"
   ]
  },
  {
   "cell_type": "code",
   "execution_count": null,
   "metadata": {},
   "outputs": [],
   "source": [
    "kernel_size = (3, 5, 7)\n",
    "#learning_rate = (0, 1)\n",
    "dropout_rate = (0, 0.99)\n",
    "n_layers = (1, 2, 3, 4, 5, 6)\n",
    "n_filters = (16, 32, 64)\n",
    "\n",
    "# define the dictionary for GPyOpt\n",
    "domain = [\n",
    "          {'name': 'n_layers', 'type': 'discrete', 'domain': n_layers},\n",
    "          {'name': 'dropout_rate', 'type': 'continuous', 'domain': dropout_rate},\n",
    "          {'name': 'n_filters','type': 'discrete', 'domain': n_filters},\n",
    "          {'name': 'kernel_size',  'type': 'discrete',    'domain': kernel_size}\n",
    "          #{'name': 'learning_rate','type': 'continuous', 'domain': learning_rate},\n",
    "         ]\n",
    "\n",
    "saved_models = [] # A list of tuples containing (model, test_acc)\n",
    "\n",
    "## we have to define the function we want to maximize --> validation accuracy, \n",
    "## note it should take a 2D ndarray but it is ok that it assumes only one point\n",
    "## in this setting\n",
    "def objective_function(x): \n",
    "    # we have to handle the categorical variables that is convert 0/1 to labels\n",
    "    # log2/sqrt and gini/entropy\n",
    "\n",
    "    #fit the model\n",
    "    model = generate_network_structure(int(x[0,0]), x[0,1], int(x[0,2]), int(x[0,3]), 1, 'relu')\n",
    "    model.fit(train_images, train_labels, epochs = 10)\n",
    "    _, test_acc = model.evaluate(test_images,  test_labels, verbose = 2)\n",
    "    saved_models.append((model, test_acc))\n",
    "    model.save('Saved Models/model_' + str(test_acc))\n",
    "    return test_acc\n",
    "\n",
    "opt = GPyOpt.methods.BayesianOptimization(f = objective_function,   # function to optimize\n",
    "                                              domain = domain,         # box-constrains of the problem\n",
    "                                              acquisition_type = 'MPI' ,      # Select acquisition function MPI, EI, LCB\n",
    "                                             )\n",
    "opt.acquisition.exploration_weight = .1\n",
    "\n",
    "opt.run_optimization(max_iter = 10) \n",
    "\n",
    "x_best = opt.X[np.argmin(opt.Y)]\n",
    "print(f\"The best parameters obtained:\\n - n_layers = {str(x_best[0])}\\n - dropout_rate = {str(x_best[1])}\\n - n_filters = {str(x_best[2])}\\n - kernel_size = {str(x_best[3])}\")"
   ]
  },
  {
   "cell_type": "code",
   "execution_count": null,
   "metadata": {},
   "outputs": [],
   "source": [
    "# Save model\n",
    "best_model = saved_models[np.argmin(opt.Y)][0]\n",
    "best_model.save('Saved Models')"
   ]
  },
  {
   "cell_type": "code",
   "execution_count": null,
   "metadata": {},
   "outputs": [],
   "source": [
    "# Load model\n",
    "best_model = tf.keras.models.load_model('Saved Models')"
   ]
  },
  {
   "cell_type": "code",
   "execution_count": null,
   "metadata": {},
   "outputs": [],
   "source": [
    "# Evaluate model\n",
    "test_loss, test_acc = best_model.evaluate(test_images,  test_labels, verbose=2)\n",
    "print('\\nTest accuracy:', test_acc)"
   ]
  },
  {
   "cell_type": "code",
   "execution_count": null,
   "metadata": {},
   "outputs": [],
   "source": [
    "# Make predictions\n",
    "predictions = best_model.predict(test_images)\n",
    "print(\"Probability distribution:\\n\" + str(predictions[0]))\n",
    "print(\"Best guess index:\\n\" + str(np.argmax(predictions[0])))"
   ]
  },
  {
   "cell_type": "code",
   "execution_count": null,
   "metadata": {},
   "outputs": [],
   "source": [
    "# Plot all predictions\n",
    "def plot_image(i, predictions_array, true_label, img):\n",
    "    true_label, img = true_label[i], img[i]\n",
    "    plt.grid(False)\n",
    "    plt.xticks([])\n",
    "    plt.yticks([])\n",
    "\n",
    "    plt.imshow(img, cmap=plt.cm.binary)\n",
    "\n",
    "    predicted_label = np.argmax(predictions_array)\n",
    "    if predicted_label == true_label:\n",
    "        color = 'blue'\n",
    "    else:\n",
    "        color = 'red'\n",
    "\n",
    "    plt.xlabel(\"{} {:2.0f}% ({})\".format(class_names[predicted_label],\n",
    "                                         100*np.max(predictions_array),\n",
    "                                         class_names[true_label]),\n",
    "                                         color=color)\n",
    "\n",
    "def plot_value_array(i, predictions_array, true_label):\n",
    "    true_label = true_label[i]\n",
    "    plt.grid(False)\n",
    "    plt.xticks(range(10))\n",
    "    plt.yticks([])\n",
    "    thisplot = plt.bar(range(10), predictions_array, color=\"#777777\")\n",
    "    plt.ylim([0, 1])\n",
    "    predicted_label = np.argmax(predictions_array)\n",
    "\n",
    "    thisplot[predicted_label].set_color('red')\n",
    "    thisplot[true_label].set_color('blue')"
   ]
  },
  {
   "cell_type": "code",
   "execution_count": null,
   "metadata": {},
   "outputs": [],
   "source": [
    "# Plot the first X test images, their predicted labels, and the true labels.\n",
    "# Color correct predictions in blue and incorrect predictions in red.\n",
    "num_rows = 5\n",
    "num_cols = 3\n",
    "num_images = num_rows*num_cols\n",
    "plt.figure(figsize=(2*2*num_cols, 2*num_rows))\n",
    "for i in range(num_images):\n",
    "  plt.subplot(num_rows, 2*num_cols, 2*i+1)\n",
    "  plot_image(i, predictions[i], test_labels, test_images)\n",
    "  plt.subplot(num_rows, 2*num_cols, 2*i+2)\n",
    "  plot_value_array(i, predictions[i], test_labels)\n",
    "plt.tight_layout()\n",
    "plt.show()"
   ]
  },
  {
   "cell_type": "code",
   "execution_count": null,
   "metadata": {},
   "outputs": [],
   "source": [
    "# Grab an image from the test dataset.\n",
    "img = test_images[1]\n",
    "\n",
    "# Add the image to a batch where it's the only member.\n",
    "img = (np.expand_dims(img,0))\n",
    "\n",
    "# Now predict the correct label for this image\n",
    "predictions_single = best_model.predict(img)\n",
    "print(predictions_single)\n",
    "\n",
    "# Plot the true class blue and the predicted class red\n",
    "plot_value_array(1, predictions_single[0], test_labels)\n",
    "_ = plt.xticks(range(10), class_names, rotation=45)\n",
    "plt.show()\n",
    "\n",
    "# The predicted class index\n",
    "np.argmax(predictions_single[0])"
   ]
  }
 ],
 "metadata": {
  "interpreter": {
   "hash": "39f7b1e1acb982adffb7db11462de7cdfb80f348d07483f59786aa90f88d75ac"
  },
  "kernelspec": {
   "display_name": "Python 3 (ipykernel)",
   "language": "python",
   "name": "python3"
  },
  "language_info": {
   "codemirror_mode": {
    "name": "ipython",
    "version": 3
   },
   "file_extension": ".py",
   "mimetype": "text/x-python",
   "name": "python",
   "nbconvert_exporter": "python",
   "pygments_lexer": "ipython3",
   "version": "3.9.7"
  }
 },
 "nbformat": 4,
 "nbformat_minor": 2
}
